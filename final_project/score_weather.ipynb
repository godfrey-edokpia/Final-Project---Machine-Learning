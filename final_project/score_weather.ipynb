{
 "cells": [
  {
   "cell_type": "code",
   "execution_count": 1,
   "metadata": {},
   "outputs": [],
   "source": [
    "from sklearn import tree\n",
    "import pandas as pd\n",
    "import os\n",
    "import numpy as np\n",
    "from pandas.plotting import scatter_matrix"
   ]
  },
  {
   "cell_type": "code",
   "execution_count": 2,
   "metadata": {},
   "outputs": [],
   "source": [
    "file = 'clt_temps.csv'\n"
   ]
  },
  {
   "cell_type": "code",
   "execution_count": 3,
   "metadata": {},
   "outputs": [],
   "source": [
    "df = pd.read_csv(file, encoding=\"ISO-8859-1\")"
   ]
  },
  {
   "cell_type": "code",
   "execution_count": 4,
   "metadata": {},
   "outputs": [
    {
     "data": {
      "text/html": [
       "<div>\n",
       "<style scoped>\n",
       "    .dataframe tbody tr th:only-of-type {\n",
       "        vertical-align: middle;\n",
       "    }\n",
       "\n",
       "    .dataframe tbody tr th {\n",
       "        vertical-align: top;\n",
       "    }\n",
       "\n",
       "    .dataframe thead th {\n",
       "        text-align: right;\n",
       "    }\n",
       "</style>\n",
       "<table border=\"1\" class=\"dataframe\">\n",
       "  <thead>\n",
       "    <tr style=\"text-align: right;\">\n",
       "      <th></th>\n",
       "      <th>date_time</th>\n",
       "      <th>avg_temp</th>\n",
       "      <th>precip_water</th>\n",
       "      <th>snow</th>\n",
       "      <th>snow_ice_depth</th>\n",
       "    </tr>\n",
       "  </thead>\n",
       "  <tbody>\n",
       "    <tr>\n",
       "      <th>0</th>\n",
       "      <td>1948-09-01</td>\n",
       "      <td>71.5</td>\n",
       "      <td>0.00</td>\n",
       "      <td>0.0</td>\n",
       "      <td>0.0</td>\n",
       "    </tr>\n",
       "    <tr>\n",
       "      <th>1</th>\n",
       "      <td>1948-09-02</td>\n",
       "      <td>69.0</td>\n",
       "      <td>0.00</td>\n",
       "      <td>0.0</td>\n",
       "      <td>0.0</td>\n",
       "    </tr>\n",
       "    <tr>\n",
       "      <th>2</th>\n",
       "      <td>1948-09-03</td>\n",
       "      <td>72.0</td>\n",
       "      <td>0.00</td>\n",
       "      <td>0.0</td>\n",
       "      <td>0.0</td>\n",
       "    </tr>\n",
       "    <tr>\n",
       "      <th>3</th>\n",
       "      <td>1948-09-04</td>\n",
       "      <td>69.0</td>\n",
       "      <td>0.29</td>\n",
       "      <td>0.0</td>\n",
       "      <td>0.0</td>\n",
       "    </tr>\n",
       "    <tr>\n",
       "      <th>4</th>\n",
       "      <td>1948-09-05</td>\n",
       "      <td>72.0</td>\n",
       "      <td>0.06</td>\n",
       "      <td>0.0</td>\n",
       "      <td>0.0</td>\n",
       "    </tr>\n",
       "  </tbody>\n",
       "</table>\n",
       "</div>"
      ],
      "text/plain": [
       "    date_time  avg_temp  precip_water  snow  snow_ice_depth\n",
       "0  1948-09-01      71.5          0.00   0.0             0.0\n",
       "1  1948-09-02      69.0          0.00   0.0             0.0\n",
       "2  1948-09-03      72.0          0.00   0.0             0.0\n",
       "3  1948-09-04      69.0          0.29   0.0             0.0\n",
       "4  1948-09-05      72.0          0.06   0.0             0.0"
      ]
     },
     "execution_count": 4,
     "metadata": {},
     "output_type": "execute_result"
    }
   ],
   "source": [
    "df.head()"
   ]
  },
  {
   "cell_type": "code",
   "execution_count": 5,
   "metadata": {},
   "outputs": [],
   "source": [
    "score_df = df.loc[:, [\"date_time\", \"avg_temp\", \"precip_water\", \"snow\", \"snow_ice_depth\"]]"
   ]
  },
  {
   "cell_type": "code",
   "execution_count": 6,
   "metadata": {
    "scrolled": true
   },
   "outputs": [
    {
     "data": {
      "text/html": [
       "<div>\n",
       "<style scoped>\n",
       "    .dataframe tbody tr th:only-of-type {\n",
       "        vertical-align: middle;\n",
       "    }\n",
       "\n",
       "    .dataframe tbody tr th {\n",
       "        vertical-align: top;\n",
       "    }\n",
       "\n",
       "    .dataframe thead th {\n",
       "        text-align: right;\n",
       "    }\n",
       "</style>\n",
       "<table border=\"1\" class=\"dataframe\">\n",
       "  <thead>\n",
       "    <tr style=\"text-align: right;\">\n",
       "      <th></th>\n",
       "      <th>date_time</th>\n",
       "      <th>avg_temp</th>\n",
       "      <th>precip_water</th>\n",
       "      <th>snow</th>\n",
       "      <th>snow_ice_depth</th>\n",
       "    </tr>\n",
       "  </thead>\n",
       "  <tbody>\n",
       "    <tr>\n",
       "      <th>0</th>\n",
       "      <td>1948-09-01</td>\n",
       "      <td>71.5</td>\n",
       "      <td>0.00</td>\n",
       "      <td>0.0</td>\n",
       "      <td>0.0</td>\n",
       "    </tr>\n",
       "    <tr>\n",
       "      <th>1</th>\n",
       "      <td>1948-09-02</td>\n",
       "      <td>69.0</td>\n",
       "      <td>0.00</td>\n",
       "      <td>0.0</td>\n",
       "      <td>0.0</td>\n",
       "    </tr>\n",
       "    <tr>\n",
       "      <th>2</th>\n",
       "      <td>1948-09-03</td>\n",
       "      <td>72.0</td>\n",
       "      <td>0.00</td>\n",
       "      <td>0.0</td>\n",
       "      <td>0.0</td>\n",
       "    </tr>\n",
       "    <tr>\n",
       "      <th>3</th>\n",
       "      <td>1948-09-04</td>\n",
       "      <td>69.0</td>\n",
       "      <td>0.29</td>\n",
       "      <td>0.0</td>\n",
       "      <td>0.0</td>\n",
       "    </tr>\n",
       "    <tr>\n",
       "      <th>4</th>\n",
       "      <td>1948-09-05</td>\n",
       "      <td>72.0</td>\n",
       "      <td>0.06</td>\n",
       "      <td>0.0</td>\n",
       "      <td>0.0</td>\n",
       "    </tr>\n",
       "  </tbody>\n",
       "</table>\n",
       "</div>"
      ],
      "text/plain": [
       "    date_time  avg_temp  precip_water  snow  snow_ice_depth\n",
       "0  1948-09-01      71.5          0.00   0.0             0.0\n",
       "1  1948-09-02      69.0          0.00   0.0             0.0\n",
       "2  1948-09-03      72.0          0.00   0.0             0.0\n",
       "3  1948-09-04      69.0          0.29   0.0             0.0\n",
       "4  1948-09-05      72.0          0.06   0.0             0.0"
      ]
     },
     "execution_count": 6,
     "metadata": {},
     "output_type": "execute_result"
    }
   ],
   "source": [
    "\n",
    "score_df.head()"
   ]
  },
  {
   "cell_type": "code",
   "execution_count": 7,
   "metadata": {},
   "outputs": [],
   "source": [
    "score_df[\"precip\"] = score_df[\"snow\"] + score_df[\"snow_ice_depth\"] + score_df[\"precip_water\"]\n",
    "   "
   ]
  },
  {
   "cell_type": "code",
   "execution_count": 8,
   "metadata": {},
   "outputs": [
    {
     "data": {
      "text/html": [
       "<div>\n",
       "<style scoped>\n",
       "    .dataframe tbody tr th:only-of-type {\n",
       "        vertical-align: middle;\n",
       "    }\n",
       "\n",
       "    .dataframe tbody tr th {\n",
       "        vertical-align: top;\n",
       "    }\n",
       "\n",
       "    .dataframe thead th {\n",
       "        text-align: right;\n",
       "    }\n",
       "</style>\n",
       "<table border=\"1\" class=\"dataframe\">\n",
       "  <thead>\n",
       "    <tr style=\"text-align: right;\">\n",
       "      <th></th>\n",
       "      <th>date_time</th>\n",
       "      <th>avg_temp</th>\n",
       "      <th>precip_water</th>\n",
       "      <th>snow</th>\n",
       "      <th>snow_ice_depth</th>\n",
       "      <th>precip</th>\n",
       "    </tr>\n",
       "  </thead>\n",
       "  <tbody>\n",
       "    <tr>\n",
       "      <th>0</th>\n",
       "      <td>1948-09-01</td>\n",
       "      <td>71.5</td>\n",
       "      <td>0.00</td>\n",
       "      <td>0.0</td>\n",
       "      <td>0.0</td>\n",
       "      <td>0.00</td>\n",
       "    </tr>\n",
       "    <tr>\n",
       "      <th>1</th>\n",
       "      <td>1948-09-02</td>\n",
       "      <td>69.0</td>\n",
       "      <td>0.00</td>\n",
       "      <td>0.0</td>\n",
       "      <td>0.0</td>\n",
       "      <td>0.00</td>\n",
       "    </tr>\n",
       "    <tr>\n",
       "      <th>2</th>\n",
       "      <td>1948-09-03</td>\n",
       "      <td>72.0</td>\n",
       "      <td>0.00</td>\n",
       "      <td>0.0</td>\n",
       "      <td>0.0</td>\n",
       "      <td>0.00</td>\n",
       "    </tr>\n",
       "    <tr>\n",
       "      <th>3</th>\n",
       "      <td>1948-09-04</td>\n",
       "      <td>69.0</td>\n",
       "      <td>0.29</td>\n",
       "      <td>0.0</td>\n",
       "      <td>0.0</td>\n",
       "      <td>0.29</td>\n",
       "    </tr>\n",
       "    <tr>\n",
       "      <th>4</th>\n",
       "      <td>1948-09-05</td>\n",
       "      <td>72.0</td>\n",
       "      <td>0.06</td>\n",
       "      <td>0.0</td>\n",
       "      <td>0.0</td>\n",
       "      <td>0.06</td>\n",
       "    </tr>\n",
       "  </tbody>\n",
       "</table>\n",
       "</div>"
      ],
      "text/plain": [
       "    date_time  avg_temp  precip_water  snow  snow_ice_depth  precip\n",
       "0  1948-09-01      71.5          0.00   0.0             0.0    0.00\n",
       "1  1948-09-02      69.0          0.00   0.0             0.0    0.00\n",
       "2  1948-09-03      72.0          0.00   0.0             0.0    0.00\n",
       "3  1948-09-04      69.0          0.29   0.0             0.0    0.29\n",
       "4  1948-09-05      72.0          0.06   0.0             0.0    0.06"
      ]
     },
     "execution_count": 8,
     "metadata": {},
     "output_type": "execute_result"
    }
   ],
   "source": [
    "score_df.head(5)\n"
   ]
  },
  {
   "cell_type": "code",
   "execution_count": 9,
   "metadata": {},
   "outputs": [],
   "source": [
    "conditions = [\n",
    "    (score_df['precip'] == 0.00) & (score_df['avg_temp'] >= 70) & (score_df['avg_temp'] <= 80)]\n",
    "choices = [2]\n",
    "score_df['score'] = np.select(conditions, choices, default=1)"
   ]
  },
  {
   "cell_type": "code",
   "execution_count": 10,
   "metadata": {},
   "outputs": [
    {
     "data": {
      "text/html": [
       "<div>\n",
       "<style scoped>\n",
       "    .dataframe tbody tr th:only-of-type {\n",
       "        vertical-align: middle;\n",
       "    }\n",
       "\n",
       "    .dataframe tbody tr th {\n",
       "        vertical-align: top;\n",
       "    }\n",
       "\n",
       "    .dataframe thead th {\n",
       "        text-align: right;\n",
       "    }\n",
       "</style>\n",
       "<table border=\"1\" class=\"dataframe\">\n",
       "  <thead>\n",
       "    <tr style=\"text-align: right;\">\n",
       "      <th></th>\n",
       "      <th>date_time</th>\n",
       "      <th>avg_temp</th>\n",
       "      <th>precip_water</th>\n",
       "      <th>snow</th>\n",
       "      <th>snow_ice_depth</th>\n",
       "      <th>precip</th>\n",
       "      <th>score</th>\n",
       "    </tr>\n",
       "  </thead>\n",
       "  <tbody>\n",
       "    <tr>\n",
       "      <th>0</th>\n",
       "      <td>1948-09-01</td>\n",
       "      <td>71.5</td>\n",
       "      <td>0.00</td>\n",
       "      <td>0.0</td>\n",
       "      <td>0.0</td>\n",
       "      <td>0.00</td>\n",
       "      <td>2</td>\n",
       "    </tr>\n",
       "    <tr>\n",
       "      <th>1</th>\n",
       "      <td>1948-09-02</td>\n",
       "      <td>69.0</td>\n",
       "      <td>0.00</td>\n",
       "      <td>0.0</td>\n",
       "      <td>0.0</td>\n",
       "      <td>0.00</td>\n",
       "      <td>1</td>\n",
       "    </tr>\n",
       "    <tr>\n",
       "      <th>2</th>\n",
       "      <td>1948-09-03</td>\n",
       "      <td>72.0</td>\n",
       "      <td>0.00</td>\n",
       "      <td>0.0</td>\n",
       "      <td>0.0</td>\n",
       "      <td>0.00</td>\n",
       "      <td>2</td>\n",
       "    </tr>\n",
       "    <tr>\n",
       "      <th>3</th>\n",
       "      <td>1948-09-04</td>\n",
       "      <td>69.0</td>\n",
       "      <td>0.29</td>\n",
       "      <td>0.0</td>\n",
       "      <td>0.0</td>\n",
       "      <td>0.29</td>\n",
       "      <td>1</td>\n",
       "    </tr>\n",
       "    <tr>\n",
       "      <th>4</th>\n",
       "      <td>1948-09-05</td>\n",
       "      <td>72.0</td>\n",
       "      <td>0.06</td>\n",
       "      <td>0.0</td>\n",
       "      <td>0.0</td>\n",
       "      <td>0.06</td>\n",
       "      <td>1</td>\n",
       "    </tr>\n",
       "  </tbody>\n",
       "</table>\n",
       "</div>"
      ],
      "text/plain": [
       "    date_time  avg_temp  precip_water  snow  snow_ice_depth  precip  score\n",
       "0  1948-09-01      71.5          0.00   0.0             0.0    0.00      2\n",
       "1  1948-09-02      69.0          0.00   0.0             0.0    0.00      1\n",
       "2  1948-09-03      72.0          0.00   0.0             0.0    0.00      2\n",
       "3  1948-09-04      69.0          0.29   0.0             0.0    0.29      1\n",
       "4  1948-09-05      72.0          0.06   0.0             0.0    0.06      1"
      ]
     },
     "execution_count": 10,
     "metadata": {},
     "output_type": "execute_result"
    }
   ],
   "source": [
    "score_df.head()"
   ]
  },
  {
   "cell_type": "code",
   "execution_count": 11,
   "metadata": {},
   "outputs": [],
   "source": [
    "score_df.to_csv('scored.csv')"
   ]
  },
  {
   "cell_type": "code",
   "execution_count": 12,
   "metadata": {},
   "outputs": [
    {
     "data": {
      "text/html": [
       "<style  type=\"text/css\" >\n",
       "    #T_85ee6c7e_0e10_11ea_9093_acbc3280d74brow0_col0 {\n",
       "            background-color:  #023858;\n",
       "            color:  #f1f1f1;\n",
       "        }    #T_85ee6c7e_0e10_11ea_9093_acbc3280d74brow0_col1 {\n",
       "            background-color:  #e7e3f0;\n",
       "            color:  #000000;\n",
       "        }    #T_85ee6c7e_0e10_11ea_9093_acbc3280d74brow0_col2 {\n",
       "            background-color:  #fff7fb;\n",
       "            color:  #000000;\n",
       "        }    #T_85ee6c7e_0e10_11ea_9093_acbc3280d74brow0_col3 {\n",
       "            background-color:  #fff7fb;\n",
       "            color:  #000000;\n",
       "        }    #T_85ee6c7e_0e10_11ea_9093_acbc3280d74brow0_col4 {\n",
       "            background-color:  #fff7fb;\n",
       "            color:  #000000;\n",
       "        }    #T_85ee6c7e_0e10_11ea_9093_acbc3280d74brow0_col5 {\n",
       "            background-color:  #6da6cd;\n",
       "            color:  #000000;\n",
       "        }    #T_85ee6c7e_0e10_11ea_9093_acbc3280d74brow1_col0 {\n",
       "            background-color:  #eae6f1;\n",
       "            color:  #000000;\n",
       "        }    #T_85ee6c7e_0e10_11ea_9093_acbc3280d74brow1_col1 {\n",
       "            background-color:  #023858;\n",
       "            color:  #f1f1f1;\n",
       "        }    #T_85ee6c7e_0e10_11ea_9093_acbc3280d74brow1_col2 {\n",
       "            background-color:  #e2dfee;\n",
       "            color:  #000000;\n",
       "        }    #T_85ee6c7e_0e10_11ea_9093_acbc3280d74brow1_col3 {\n",
       "            background-color:  #ebe6f2;\n",
       "            color:  #000000;\n",
       "        }    #T_85ee6c7e_0e10_11ea_9093_acbc3280d74brow1_col4 {\n",
       "            background-color:  #2f8bbe;\n",
       "            color:  #000000;\n",
       "        }    #T_85ee6c7e_0e10_11ea_9093_acbc3280d74brow1_col5 {\n",
       "            background-color:  #fff7fb;\n",
       "            color:  #000000;\n",
       "        }    #T_85ee6c7e_0e10_11ea_9093_acbc3280d74brow2_col0 {\n",
       "            background-color:  #fbf3f9;\n",
       "            color:  #000000;\n",
       "        }    #T_85ee6c7e_0e10_11ea_9093_acbc3280d74brow2_col1 {\n",
       "            background-color:  #d9d8ea;\n",
       "            color:  #000000;\n",
       "        }    #T_85ee6c7e_0e10_11ea_9093_acbc3280d74brow2_col2 {\n",
       "            background-color:  #023858;\n",
       "            color:  #f1f1f1;\n",
       "        }    #T_85ee6c7e_0e10_11ea_9093_acbc3280d74brow2_col3 {\n",
       "            background-color:  #a2bcda;\n",
       "            color:  #000000;\n",
       "        }    #T_85ee6c7e_0e10_11ea_9093_acbc3280d74brow2_col4 {\n",
       "            background-color:  #2081b9;\n",
       "            color:  #000000;\n",
       "        }    #T_85ee6c7e_0e10_11ea_9093_acbc3280d74brow2_col5 {\n",
       "            background-color:  #ede8f3;\n",
       "            color:  #000000;\n",
       "        }    #T_85ee6c7e_0e10_11ea_9093_acbc3280d74brow3_col0 {\n",
       "            background-color:  #fff7fb;\n",
       "            color:  #000000;\n",
       "        }    #T_85ee6c7e_0e10_11ea_9093_acbc3280d74brow3_col1 {\n",
       "            background-color:  #e7e3f0;\n",
       "            color:  #000000;\n",
       "        }    #T_85ee6c7e_0e10_11ea_9093_acbc3280d74brow3_col2 {\n",
       "            background-color:  #a8bedc;\n",
       "            color:  #000000;\n",
       "        }    #T_85ee6c7e_0e10_11ea_9093_acbc3280d74brow3_col3 {\n",
       "            background-color:  #023858;\n",
       "            color:  #f1f1f1;\n",
       "        }    #T_85ee6c7e_0e10_11ea_9093_acbc3280d74brow3_col4 {\n",
       "            background-color:  #0d75b3;\n",
       "            color:  #f1f1f1;\n",
       "        }    #T_85ee6c7e_0e10_11ea_9093_acbc3280d74brow3_col5 {\n",
       "            background-color:  #eee9f3;\n",
       "            color:  #000000;\n",
       "        }    #T_85ee6c7e_0e10_11ea_9093_acbc3280d74brow4_col0 {\n",
       "            background-color:  #fcf4fa;\n",
       "            color:  #000000;\n",
       "        }    #T_85ee6c7e_0e10_11ea_9093_acbc3280d74brow4_col1 {\n",
       "            background-color:  #2987bc;\n",
       "            color:  #000000;\n",
       "        }    #T_85ee6c7e_0e10_11ea_9093_acbc3280d74brow4_col2 {\n",
       "            background-color:  #2182b9;\n",
       "            color:  #000000;\n",
       "        }    #T_85ee6c7e_0e10_11ea_9093_acbc3280d74brow4_col3 {\n",
       "            background-color:  #0c74b2;\n",
       "            color:  #f1f1f1;\n",
       "        }    #T_85ee6c7e_0e10_11ea_9093_acbc3280d74brow4_col4 {\n",
       "            background-color:  #023858;\n",
       "            color:  #f1f1f1;\n",
       "        }    #T_85ee6c7e_0e10_11ea_9093_acbc3280d74brow4_col5 {\n",
       "            background-color:  #faf2f8;\n",
       "            color:  #000000;\n",
       "        }    #T_85ee6c7e_0e10_11ea_9093_acbc3280d74brow5_col0 {\n",
       "            background-color:  #73a9cf;\n",
       "            color:  #000000;\n",
       "        }    #T_85ee6c7e_0e10_11ea_9093_acbc3280d74brow5_col1 {\n",
       "            background-color:  #fff7fb;\n",
       "            color:  #000000;\n",
       "        }    #T_85ee6c7e_0e10_11ea_9093_acbc3280d74brow5_col2 {\n",
       "            background-color:  #f4eef6;\n",
       "            color:  #000000;\n",
       "        }    #T_85ee6c7e_0e10_11ea_9093_acbc3280d74brow5_col3 {\n",
       "            background-color:  #f1ebf4;\n",
       "            color:  #000000;\n",
       "        }    #T_85ee6c7e_0e10_11ea_9093_acbc3280d74brow5_col4 {\n",
       "            background-color:  #fff7fb;\n",
       "            color:  #000000;\n",
       "        }    #T_85ee6c7e_0e10_11ea_9093_acbc3280d74brow5_col5 {\n",
       "            background-color:  #023858;\n",
       "            color:  #f1f1f1;\n",
       "        }</style><table id=\"T_85ee6c7e_0e10_11ea_9093_acbc3280d74b\" ><thead>    <tr>        <th class=\"blank level0\" ></th>        <th class=\"col_heading level0 col0\" >avg_temp</th>        <th class=\"col_heading level0 col1\" >precip_water</th>        <th class=\"col_heading level0 col2\" >snow</th>        <th class=\"col_heading level0 col3\" >snow_ice_depth</th>        <th class=\"col_heading level0 col4\" >precip</th>        <th class=\"col_heading level0 col5\" >score</th>    </tr></thead><tbody>\n",
       "                <tr>\n",
       "                        <th id=\"T_85ee6c7e_0e10_11ea_9093_acbc3280d74blevel0_row0\" class=\"row_heading level0 row0\" >avg_temp</th>\n",
       "                        <td id=\"T_85ee6c7e_0e10_11ea_9093_acbc3280d74brow0_col0\" class=\"data row0 col0\" >1</td>\n",
       "                        <td id=\"T_85ee6c7e_0e10_11ea_9093_acbc3280d74brow0_col1\" class=\"data row0 col1\" >0.0132684</td>\n",
       "                        <td id=\"T_85ee6c7e_0e10_11ea_9093_acbc3280d74brow0_col2\" class=\"data row0 col2\" >-0.106843</td>\n",
       "                        <td id=\"T_85ee6c7e_0e10_11ea_9093_acbc3280d74brow0_col3\" class=\"data row0 col3\" >-0.139758</td>\n",
       "                        <td id=\"T_85ee6c7e_0e10_11ea_9093_acbc3280d74brow0_col4\" class=\"data row0 col4\" >-0.116617</td>\n",
       "                        <td id=\"T_85ee6c7e_0e10_11ea_9093_acbc3280d74brow0_col5\" class=\"data row0 col5\" >0.433078</td>\n",
       "            </tr>\n",
       "            <tr>\n",
       "                        <th id=\"T_85ee6c7e_0e10_11ea_9093_acbc3280d74blevel0_row1\" class=\"row_heading level0 row1\" >precip_water</th>\n",
       "                        <td id=\"T_85ee6c7e_0e10_11ea_9093_acbc3280d74brow1_col0\" class=\"data row1 col0\" >0.0132684</td>\n",
       "                        <td id=\"T_85ee6c7e_0e10_11ea_9093_acbc3280d74brow1_col1\" class=\"data row1 col1\" >1</td>\n",
       "                        <td id=\"T_85ee6c7e_0e10_11ea_9093_acbc3280d74brow1_col2\" class=\"data row1 col2\" >0.082157</td>\n",
       "                        <td id=\"T_85ee6c7e_0e10_11ea_9093_acbc3280d74brow1_col3\" class=\"data row1 col3\" >0.0111694</td>\n",
       "                        <td id=\"T_85ee6c7e_0e10_11ea_9093_acbc3280d74brow1_col4\" class=\"data row1 col4\" >0.600294</td>\n",
       "                        <td id=\"T_85ee6c7e_0e10_11ea_9093_acbc3280d74brow1_col5\" class=\"data row1 col5\" >-0.162994</td>\n",
       "            </tr>\n",
       "            <tr>\n",
       "                        <th id=\"T_85ee6c7e_0e10_11ea_9093_acbc3280d74blevel0_row2\" class=\"row_heading level0 row2\" >snow</th>\n",
       "                        <td id=\"T_85ee6c7e_0e10_11ea_9093_acbc3280d74brow2_col0\" class=\"data row2 col0\" >-0.106843</td>\n",
       "                        <td id=\"T_85ee6c7e_0e10_11ea_9093_acbc3280d74brow2_col1\" class=\"data row2 col1\" >0.082157</td>\n",
       "                        <td id=\"T_85ee6c7e_0e10_11ea_9093_acbc3280d74brow2_col2\" class=\"data row2 col2\" >1</td>\n",
       "                        <td id=\"T_85ee6c7e_0e10_11ea_9093_acbc3280d74brow2_col3\" class=\"data row2 col3\" >0.300252</td>\n",
       "                        <td id=\"T_85ee6c7e_0e10_11ea_9093_acbc3280d74brow2_col4\" class=\"data row2 col4\" >0.643726</td>\n",
       "                        <td id=\"T_85ee6c7e_0e10_11ea_9093_acbc3280d74brow2_col5\" class=\"data row2 col5\" >-0.0250891</td>\n",
       "            </tr>\n",
       "            <tr>\n",
       "                        <th id=\"T_85ee6c7e_0e10_11ea_9093_acbc3280d74blevel0_row3\" class=\"row_heading level0 row3\" >snow_ice_depth</th>\n",
       "                        <td id=\"T_85ee6c7e_0e10_11ea_9093_acbc3280d74brow3_col0\" class=\"data row3 col0\" >-0.139758</td>\n",
       "                        <td id=\"T_85ee6c7e_0e10_11ea_9093_acbc3280d74brow3_col1\" class=\"data row3 col1\" >0.0111694</td>\n",
       "                        <td id=\"T_85ee6c7e_0e10_11ea_9093_acbc3280d74brow3_col2\" class=\"data row3 col2\" >0.300252</td>\n",
       "                        <td id=\"T_85ee6c7e_0e10_11ea_9093_acbc3280d74brow3_col3\" class=\"data row3 col3\" >1</td>\n",
       "                        <td id=\"T_85ee6c7e_0e10_11ea_9093_acbc3280d74brow3_col4\" class=\"data row3 col4\" >0.694051</td>\n",
       "                        <td id=\"T_85ee6c7e_0e10_11ea_9093_acbc3280d74brow3_col5\" class=\"data row3 col5\" >-0.0327979</td>\n",
       "            </tr>\n",
       "            <tr>\n",
       "                        <th id=\"T_85ee6c7e_0e10_11ea_9093_acbc3280d74blevel0_row4\" class=\"row_heading level0 row4\" >precip</th>\n",
       "                        <td id=\"T_85ee6c7e_0e10_11ea_9093_acbc3280d74brow4_col0\" class=\"data row4 col0\" >-0.116617</td>\n",
       "                        <td id=\"T_85ee6c7e_0e10_11ea_9093_acbc3280d74brow4_col1\" class=\"data row4 col1\" >0.600294</td>\n",
       "                        <td id=\"T_85ee6c7e_0e10_11ea_9093_acbc3280d74brow4_col2\" class=\"data row4 col2\" >0.643726</td>\n",
       "                        <td id=\"T_85ee6c7e_0e10_11ea_9093_acbc3280d74brow4_col3\" class=\"data row4 col3\" >0.694051</td>\n",
       "                        <td id=\"T_85ee6c7e_0e10_11ea_9093_acbc3280d74brow4_col4\" class=\"data row4 col4\" >1</td>\n",
       "                        <td id=\"T_85ee6c7e_0e10_11ea_9093_acbc3280d74brow4_col5\" class=\"data row4 col5\" >-0.120182</td>\n",
       "            </tr>\n",
       "            <tr>\n",
       "                        <th id=\"T_85ee6c7e_0e10_11ea_9093_acbc3280d74blevel0_row5\" class=\"row_heading level0 row5\" >score</th>\n",
       "                        <td id=\"T_85ee6c7e_0e10_11ea_9093_acbc3280d74brow5_col0\" class=\"data row5 col0\" >0.433078</td>\n",
       "                        <td id=\"T_85ee6c7e_0e10_11ea_9093_acbc3280d74brow5_col1\" class=\"data row5 col1\" >-0.162994</td>\n",
       "                        <td id=\"T_85ee6c7e_0e10_11ea_9093_acbc3280d74brow5_col2\" class=\"data row5 col2\" >-0.0250891</td>\n",
       "                        <td id=\"T_85ee6c7e_0e10_11ea_9093_acbc3280d74brow5_col3\" class=\"data row5 col3\" >-0.0327979</td>\n",
       "                        <td id=\"T_85ee6c7e_0e10_11ea_9093_acbc3280d74brow5_col4\" class=\"data row5 col4\" >-0.120182</td>\n",
       "                        <td id=\"T_85ee6c7e_0e10_11ea_9093_acbc3280d74brow5_col5\" class=\"data row5 col5\" >1</td>\n",
       "            </tr>\n",
       "    </tbody></table>"
      ],
      "text/plain": [
       "<pandas.io.formats.style.Styler at 0x1a24b3f588>"
      ]
     },
     "execution_count": 12,
     "metadata": {},
     "output_type": "execute_result"
    }
   ],
   "source": [
    "score_df.corr().style.background_gradient()"
   ]
  },
  {
   "cell_type": "code",
   "execution_count": 13,
   "metadata": {},
   "outputs": [
    {
     "data": {
      "text/html": [
       "<div>\n",
       "<style scoped>\n",
       "    .dataframe tbody tr th:only-of-type {\n",
       "        vertical-align: middle;\n",
       "    }\n",
       "\n",
       "    .dataframe tbody tr th {\n",
       "        vertical-align: top;\n",
       "    }\n",
       "\n",
       "    .dataframe thead th {\n",
       "        text-align: right;\n",
       "    }\n",
       "</style>\n",
       "<table border=\"1\" class=\"dataframe\">\n",
       "  <thead>\n",
       "    <tr style=\"text-align: right;\">\n",
       "      <th></th>\n",
       "      <th>avg_temp</th>\n",
       "      <th>precip</th>\n",
       "    </tr>\n",
       "  </thead>\n",
       "  <tbody>\n",
       "    <tr>\n",
       "      <th>0</th>\n",
       "      <td>71.5</td>\n",
       "      <td>0.00</td>\n",
       "    </tr>\n",
       "    <tr>\n",
       "      <th>1</th>\n",
       "      <td>69.0</td>\n",
       "      <td>0.00</td>\n",
       "    </tr>\n",
       "    <tr>\n",
       "      <th>2</th>\n",
       "      <td>72.0</td>\n",
       "      <td>0.00</td>\n",
       "    </tr>\n",
       "    <tr>\n",
       "      <th>3</th>\n",
       "      <td>69.0</td>\n",
       "      <td>0.29</td>\n",
       "    </tr>\n",
       "    <tr>\n",
       "      <th>4</th>\n",
       "      <td>72.0</td>\n",
       "      <td>0.06</td>\n",
       "    </tr>\n",
       "  </tbody>\n",
       "</table>\n",
       "</div>"
      ],
      "text/plain": [
       "   avg_temp  precip\n",
       "0      71.5    0.00\n",
       "1      69.0    0.00\n",
       "2      72.0    0.00\n",
       "3      69.0    0.29\n",
       "4      72.0    0.06"
      ]
     },
     "execution_count": 13,
     "metadata": {},
     "output_type": "execute_result"
    }
   ],
   "source": [
    "x = score_df[[\"avg_temp\",\"precip\"]]\n",
    "x.head()"
   ]
  },
  {
   "cell_type": "code",
   "execution_count": 14,
   "metadata": {},
   "outputs": [
    {
     "data": {
      "text/plain": [
       "0    2\n",
       "1    1\n",
       "2    2\n",
       "3    1\n",
       "4    1\n",
       "Name: score, dtype: int64"
      ]
     },
     "execution_count": 14,
     "metadata": {},
     "output_type": "execute_result"
    }
   ],
   "source": [
    "y = score_df[\"score\"]\n",
    "y.head()"
   ]
  },
  {
   "cell_type": "code",
   "execution_count": 15,
   "metadata": {},
   "outputs": [],
   "source": [
    "# x= score_df.avg_temp.values.reshape(-1, 1)\n",
    "y= score_df.score.values.reshape(-1, 1)"
   ]
  },
  {
   "cell_type": "code",
   "execution_count": 16,
   "metadata": {},
   "outputs": [],
   "source": [
    "from sklearn.model_selection import train_test_split\n",
    "x_train, x_test, y_train, y_test = train_test_split(x, y, test_size=0.25)"
   ]
  },
  {
   "cell_type": "code",
   "execution_count": 17,
   "metadata": {},
   "outputs": [
    {
     "name": "stderr",
     "output_type": "stream",
     "text": [
      "/anaconda3/lib/python3.7/site-packages/sklearn/utils/validation.py:761: DataConversionWarning: A column-vector y was passed when a 1d array was expected. Please change the shape of y to (n_samples, ), for example using ravel().\n",
      "  y = column_or_1d(y, warn=True)\n"
     ]
    },
    {
     "data": {
      "text/plain": [
       "SVC(C=1.0, cache_size=200, class_weight=None, coef0=0.0,\n",
       "  decision_function_shape='ovr', degree=3, gamma='auto_deprecated',\n",
       "  kernel='linear', max_iter=-1, probability=False, random_state=None,\n",
       "  shrinking=True, tol=0.001, verbose=False)"
      ]
     },
     "execution_count": 17,
     "metadata": {},
     "output_type": "execute_result"
    }
   ],
   "source": [
    "# Support vector machine linear classifier\n",
    "from sklearn.svm import SVC \n",
    "model = SVC(kernel='linear')\n",
    "model.fit(x, y)"
   ]
  },
  {
   "cell_type": "code",
   "execution_count": 18,
   "metadata": {},
   "outputs": [
    {
     "name": "stderr",
     "output_type": "stream",
     "text": [
      "/anaconda3/lib/python3.7/site-packages/sklearn/utils/validation.py:761: DataConversionWarning: A column-vector y was passed when a 1d array was expected. Please change the shape of y to (n_samples, ), for example using ravel().\n",
      "  y = column_or_1d(y, warn=True)\n"
     ]
    }
   ],
   "source": [
    "# Fit to the training data and validate with the test data\n",
    "model = SVC(kernel='linear')\n",
    "model.fit(x_train, y_train)\n",
    "predictions = model.predict(x_test)\n"
   ]
  },
  {
   "cell_type": "code",
   "execution_count": 19,
   "metadata": {},
   "outputs": [
    {
     "data": {
      "text/plain": [
       "array([1, 2])"
      ]
     },
     "execution_count": 19,
     "metadata": {},
     "output_type": "execute_result"
    }
   ],
   "source": [
    "np.unique(predictions)"
   ]
  },
  {
   "cell_type": "code",
   "execution_count": 20,
   "metadata": {},
   "outputs": [
    {
     "name": "stdout",
     "output_type": "stream",
     "text": [
      "              precision    recall  f1-score   support\n",
      "\n",
      "    good day       0.86      0.91      0.89      5346\n",
      "     bad day       0.44      0.32      0.37      1154\n",
      "\n",
      "   micro avg       0.81      0.81      0.81      6500\n",
      "   macro avg       0.65      0.62      0.63      6500\n",
      "weighted avg       0.79      0.81      0.80      6500\n",
      "\n"
     ]
    }
   ],
   "source": [
    "from sklearn.metrics import classification_report\n",
    "print(classification_report(y_test, predictions,\n",
    "                            target_names=[\"good day\", \"bad day\"]))"
   ]
  },
  {
   "cell_type": "code",
   "execution_count": 21,
   "metadata": {},
   "outputs": [
    {
     "data": {
      "text/plain": [
       "array([[<matplotlib.axes._subplots.AxesSubplot object at 0x1a27927198>,\n",
       "        <matplotlib.axes._subplots.AxesSubplot object at 0x1a279737f0>,\n",
       "        <matplotlib.axes._subplots.AxesSubplot object at 0x1a27a8dd30>,\n",
       "        <matplotlib.axes._subplots.AxesSubplot object at 0x1a27ae52e8>,\n",
       "        <matplotlib.axes._subplots.AxesSubplot object at 0x1a27b0a860>,\n",
       "        <matplotlib.axes._subplots.AxesSubplot object at 0x1a27b57dd8>],\n",
       "       [<matplotlib.axes._subplots.AxesSubplot object at 0x1a27baf390>,\n",
       "        <matplotlib.axes._subplots.AxesSubplot object at 0x1a27bd7940>,\n",
       "        <matplotlib.axes._subplots.AxesSubplot object at 0x1a27bd7978>,\n",
       "        <matplotlib.axes._subplots.AxesSubplot object at 0x1a25084438>,\n",
       "        <matplotlib.axes._subplots.AxesSubplot object at 0x1a250a99b0>,\n",
       "        <matplotlib.axes._subplots.AxesSubplot object at 0x1a250d1f28>],\n",
       "       [<matplotlib.axes._subplots.AxesSubplot object at 0x1a251024e0>,\n",
       "        <matplotlib.axes._subplots.AxesSubplot object at 0x1a25128a58>,\n",
       "        <matplotlib.axes._subplots.AxesSubplot object at 0x1a25150f98>,\n",
       "        <matplotlib.axes._subplots.AxesSubplot object at 0x1a2517e550>,\n",
       "        <matplotlib.axes._subplots.AxesSubplot object at 0x1a251a9ac8>,\n",
       "        <matplotlib.axes._subplots.AxesSubplot object at 0x1a251d9080>],\n",
       "       [<matplotlib.axes._subplots.AxesSubplot object at 0x1a251fe5f8>,\n",
       "        <matplotlib.axes._subplots.AxesSubplot object at 0x1a25228b70>,\n",
       "        <matplotlib.axes._subplots.AxesSubplot object at 0x1a25257128>,\n",
       "        <matplotlib.axes._subplots.AxesSubplot object at 0x1a2527e6a0>,\n",
       "        <matplotlib.axes._subplots.AxesSubplot object at 0x1a252a7c18>,\n",
       "        <matplotlib.axes._subplots.AxesSubplot object at 0x1a252d71d0>],\n",
       "       [<matplotlib.axes._subplots.AxesSubplot object at 0x1a252fd748>,\n",
       "        <matplotlib.axes._subplots.AxesSubplot object at 0x1a25326cc0>,\n",
       "        <matplotlib.axes._subplots.AxesSubplot object at 0x1a25357278>,\n",
       "        <matplotlib.axes._subplots.AxesSubplot object at 0x1a2537e7f0>,\n",
       "        <matplotlib.axes._subplots.AxesSubplot object at 0x1a253a6d68>,\n",
       "        <matplotlib.axes._subplots.AxesSubplot object at 0x1a253d7320>],\n",
       "       [<matplotlib.axes._subplots.AxesSubplot object at 0x1a253fd898>,\n",
       "        <matplotlib.axes._subplots.AxesSubplot object at 0x1a25424e10>,\n",
       "        <matplotlib.axes._subplots.AxesSubplot object at 0x1a254553c8>,\n",
       "        <matplotlib.axes._subplots.AxesSubplot object at 0x1a2547b940>,\n",
       "        <matplotlib.axes._subplots.AxesSubplot object at 0x1a254a3eb8>,\n",
       "        <matplotlib.axes._subplots.AxesSubplot object at 0x1a254d4470>]],\n",
       "      dtype=object)"
      ]
     },
     "execution_count": 21,
     "metadata": {},
     "output_type": "execute_result"
    },
    {
     "data": {
      "image/png": "[encoded data removed]",
      "text/plain": [
       "<Figure size 864x720 with 36 Axes>"
      ]
     },
     "metadata": {
      "needs_background": "light"
     },
     "output_type": "display_data"
    }
   ],
   "source": [
    "scatter_matrix(score_df.loc[:, 'date_time':'score'], figsize = (12,10), diagonal='kde')"
   ]
  },
  {
   "cell_type": "code",
   "execution_count": null,
   "metadata": {},
   "outputs": [],
   "source": []
  }
 ],
 "metadata": {
  "kernelspec": {
   "display_name": "Python 3",
   "language": "python",
   "name": "python3"
  },
  "language_info": {
   "codemirror_mode": {
    "name": "ipython",
    "version": 3
   },
   "file_extension": ".py",
   "mimetype": "text/x-python",
   "name": "python",
   "nbconvert_exporter": "python",
   "pygments_lexer": "ipython3",
   "version": "3.7.3"
  }
 },
 "nbformat": 4,
 "nbformat_minor": 2
}
